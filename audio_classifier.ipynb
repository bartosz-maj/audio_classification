{
  "cells": [
    {
      "cell_type": "markdown",
      "metadata": {
        "id": "z7mJmlomQs83"
      },
      "source": [
        "# 1 Problem formulation\n",
        "\n",
        "The problem is a binary classification, where the purpose of the model is to take an audio file input and give it a female or male label. \n",
        "\n",
        "This is an interesting project as it could aid in voice detection technologies found in most household devices such as phones, television sets, or speaker sets. If access to a device is limited to a specific user an early gender check could easily dismiss users who try accessing the device but don't match the authorised user's gender. "
      ]
    },
    {
      "cell_type": "markdown",
      "metadata": {
        "id": "hsB9pIUzRwSY"
      },
      "source": [
        "# 2 Machine Learning pipeline\n",
        "\n",
        "The pipelines inpputs are WAV files, and go through the following stages: \n",
        "\n",
        "1. Feature extraction: during this stage pitch mean, and pitch standard deviation are extracted and placed into a dataframe. This is useful as men typically have lower pitch than women, offering the opportunity to distinguish between the two with a high degree of certainty. A label dataframe is created based on the male or female label of each recording on a csv. These labels were achieved through manual labelling. Each participant has a unique code, meaning each code could be labelled with a male or female label. This produced 176 labelled codes. These codes could then be matched with all recordings, resulting in a labelled dataset of 2498 recordings. \n",
        "\n",
        "2. A Random Forest Classifier is then trained on these features. This classifier has the following parameters: n_estimators at 1000, min_samples_split at 5, min_samples_lead at 4, max_features at \"auto\", max_depth at 110, and bootstrap set to True. A Random Forest Classifier is an ensemble model, where the original sample is bootstrapped and a decision tree is generated for it. All the decision trees are then used to determine the class of a label through majority voting. \n",
        "\n",
        "3. The model then produces an output which is a label. True means the sample has a female label, and False means the sample has a male label. \n",
        "\n",
        "Various versions of this pipeline were experimented with. Initially the training and validation datasets were normalized using a MinMax scaler, however,this resulted in significantly varied results between cross-validation and final validation, where the models would severley overfit. To account for the possibility of outliers significantly decreasing model performance a RoubstScaler was used, however, this did not address the problem. The best results were found when no normalizing was carried out. \n",
        "\n",
        "To address the imbalanced nature of the dataset under sampling techniques were utilized where the male samples were undersampled to make them match the female samples, however, this version of the pipeline offered results comparable to classifiers which used the imbalanced data, but used the \"balanced accuracy\" scoring metric when conducting the grid search function. Therefore, the final pipline utilizes the \"balanced accuracy\" scoring metric with an imbalanced dataset to not deprive the models of a larger training sample.\n"
      ]
    },
    {
      "cell_type": "markdown",
      "metadata": {
        "id": "Hxc_aiccWKWX"
      },
      "source": [
        "# 3 Transformation stage\n",
        "\n",
        "Feature Extraction: Pitch mean and pitch standard deviation are extracted using the librosa load and pyin functions. The extraction function takes a wav file and outputs two arrays. The first array consists of the pitch features, whilst the second array consists of the labels. Female labels result in a True label, whilst male labels result in a False label. \n",
        "\n",
        "Audio files offer a high number of dimensions, however, due to the relatively small sample size limmiting the dataset to two features will lower the chances of overfitting. Furthermore, pitch is highly related to gender, meaning the classifier should be able to extract sufficient patterns to perform well on unseen data. "
      ]
    },
    {
      "cell_type": "markdown",
      "metadata": {
        "id": "O_abqOOLXavn"
      },
      "source": [
        "The following cell imports all the packages necessary for the project. "
      ]
    },
    {
      "cell_type": "code",
      "execution_count": null,
      "metadata": {
        "id": "1te7tDJXKA1e"
      },
      "outputs": [],
      "source": [
        "import pandas as pd\n",
        "import numpy as np \n",
        "import matplotlib.pyplot as plt\n",
        "import seaborn as sns  \n",
        "\n",
        "\n",
        "from sklearn.preprocessing import MinMaxScaler \n",
        "from sklearn.model_selection import train_test_split\n",
        "from sklearn.model_selection import GridSearchCV\n",
        "from sklearn.metrics import confusion_matrix\n",
        "from sklearn.metrics import classification_report\n",
        "from sklearn.model_selection import RandomizedSearchCV\n",
        "from sklearn.model_selection import cross_val_score\n",
        "\n",
        "\n",
        "from sklearn.neighbors import KNeighborsClassifier \n",
        "from sklearn.ensemble import RandomForestClassifier\n",
        "from sklearn.linear_model import LogisticRegression \n",
        "from sklearn.naive_bayes import GaussianNB \n",
        "from sklearn.ensemble import BaggingClassifier\n",
        "from sklearn import svm \n",
        "from sklearn.ensemble import VotingClassifier\n",
        "from sklearn.ensemble import AdaBoostClassifier\n",
        "from sklearn.tree import DecisionTreeClassifier\n",
        "\n",
        "\n",
        "\n",
        "from google.colab import drive\n",
        "import os, sys, re, pickle, glob\n",
        "from tqdm import tqdm\n",
        "import librosa\n",
        "import librosa.display"
      ]
    },
    {
      "cell_type": "markdown",
      "metadata": {
        "id": "vjKM0nSPXeUH"
      },
      "source": [
        "The following cell connects the notebook to the google drive which has the audio files. "
      ]
    },
    {
      "cell_type": "code",
      "execution_count": null,
      "metadata": {
        "colab": {
          "base_uri": "https://localhost:8080/"
        },
        "id": "1dMGb7B7KFND",
        "outputId": "3e318bab-e0d8-4b96-f6dc-f9c71c16e32b"
      },
      "outputs": [
        {
          "output_type": "stream",
          "name": "stdout",
          "text": [
            "Mounted at /content/drive\n"
          ]
        }
      ],
      "source": [
        "drive.mount('/content/drive')"
      ]
    },
    {
      "cell_type": "markdown",
      "metadata": {
        "id": "M47mzl3NXiM4"
      },
      "source": [
        "The following cell specifies the path towards the audio files, and directs it to a variable which can be used for feature extraction. "
      ]
    },
    {
      "cell_type": "code",
      "execution_count": null,
      "metadata": {
        "id": "ma9qVq7VKGmL"
      },
      "outputs": [],
      "source": [
        "sample_path = '/content/drive/MyDrive/Data/all_audio/*.wav'\n",
        "files = glob.glob(sample_path)"
      ]
    },
    {
      "cell_type": "markdown",
      "metadata": {
        "id": "HlXFaVnBXpHm"
      },
      "source": [
        "The following cell imports a csv which contains the male and female labels for each audio file. "
      ]
    },
    {
      "cell_type": "code",
      "execution_count": null,
      "metadata": {
        "colab": {
          "base_uri": "https://localhost:8080/",
          "height": 238
        },
        "id": "3pzuDq4TKIiL",
        "outputId": "e64358c8-da3c-4a40-c9b6-2e53f124cc24"
      },
      "outputs": [
        {
          "output_type": "execute_result",
          "data": {
            "text/plain": [
              "                area       spot   in_out Participant  Gender\n",
              "file_id                                                     \n",
              "0090.wav     westend  leicester  outdoor          S1  female\n",
              "0174.wav  kensington     albert  outdoor          S1  female\n",
              "0213.wav  kensington   cromwell  outdoor          S1  female\n",
              "0320.wav      campus     ground   indoor          S1  female\n",
              "0587.wav     westend   national   indoor          S1  female"
            ],
            "text/html": [
              "\n",
              "  <div id=\"df-5add7ac0-5224-47bd-9d08-2b933d40c3fe\">\n",
              "    <div class=\"colab-df-container\">\n",
              "      <div>\n",
              "<style scoped>\n",
              "    .dataframe tbody tr th:only-of-type {\n",
              "        vertical-align: middle;\n",
              "    }\n",
              "\n",
              "    .dataframe tbody tr th {\n",
              "        vertical-align: top;\n",
              "    }\n",
              "\n",
              "    .dataframe thead th {\n",
              "        text-align: right;\n",
              "    }\n",
              "</style>\n",
              "<table border=\"1\" class=\"dataframe\">\n",
              "  <thead>\n",
              "    <tr style=\"text-align: right;\">\n",
              "      <th></th>\n",
              "      <th>area</th>\n",
              "      <th>spot</th>\n",
              "      <th>in_out</th>\n",
              "      <th>Participant</th>\n",
              "      <th>Gender</th>\n",
              "    </tr>\n",
              "    <tr>\n",
              "      <th>file_id</th>\n",
              "      <th></th>\n",
              "      <th></th>\n",
              "      <th></th>\n",
              "      <th></th>\n",
              "      <th></th>\n",
              "    </tr>\n",
              "  </thead>\n",
              "  <tbody>\n",
              "    <tr>\n",
              "      <th>0090.wav</th>\n",
              "      <td>westend</td>\n",
              "      <td>leicester</td>\n",
              "      <td>outdoor</td>\n",
              "      <td>S1</td>\n",
              "      <td>female</td>\n",
              "    </tr>\n",
              "    <tr>\n",
              "      <th>0174.wav</th>\n",
              "      <td>kensington</td>\n",
              "      <td>albert</td>\n",
              "      <td>outdoor</td>\n",
              "      <td>S1</td>\n",
              "      <td>female</td>\n",
              "    </tr>\n",
              "    <tr>\n",
              "      <th>0213.wav</th>\n",
              "      <td>kensington</td>\n",
              "      <td>cromwell</td>\n",
              "      <td>outdoor</td>\n",
              "      <td>S1</td>\n",
              "      <td>female</td>\n",
              "    </tr>\n",
              "    <tr>\n",
              "      <th>0320.wav</th>\n",
              "      <td>campus</td>\n",
              "      <td>ground</td>\n",
              "      <td>indoor</td>\n",
              "      <td>S1</td>\n",
              "      <td>female</td>\n",
              "    </tr>\n",
              "    <tr>\n",
              "      <th>0587.wav</th>\n",
              "      <td>westend</td>\n",
              "      <td>national</td>\n",
              "      <td>indoor</td>\n",
              "      <td>S1</td>\n",
              "      <td>female</td>\n",
              "    </tr>\n",
              "  </tbody>\n",
              "</table>\n",
              "</div>\n",
              "      <button class=\"colab-df-convert\" onclick=\"convertToInteractive('df-5add7ac0-5224-47bd-9d08-2b933d40c3fe')\"\n",
              "              title=\"Convert this dataframe to an interactive table.\"\n",
              "              style=\"display:none;\">\n",
              "        \n",
              "  <svg xmlns=\"http://www.w3.org/2000/svg\" height=\"24px\"viewBox=\"0 0 24 24\"\n",
              "       width=\"24px\">\n",
              "    <path d=\"M0 0h24v24H0V0z\" fill=\"none\"/>\n",
              "    <path d=\"M18.56 5.44l.94 2.06.94-2.06 2.06-.94-2.06-.94-.94-2.06-.94 2.06-2.06.94zm-11 1L8.5 8.5l.94-2.06 2.06-.94-2.06-.94L8.5 2.5l-.94 2.06-2.06.94zm10 10l.94 2.06.94-2.06 2.06-.94-2.06-.94-.94-2.06-.94 2.06-2.06.94z\"/><path d=\"M17.41 7.96l-1.37-1.37c-.4-.4-.92-.59-1.43-.59-.52 0-1.04.2-1.43.59L10.3 9.45l-7.72 7.72c-.78.78-.78 2.05 0 2.83L4 21.41c.39.39.9.59 1.41.59.51 0 1.02-.2 1.41-.59l7.78-7.78 2.81-2.81c.8-.78.8-2.07 0-2.86zM5.41 20L4 18.59l7.72-7.72 1.47 1.35L5.41 20z\"/>\n",
              "  </svg>\n",
              "      </button>\n",
              "      \n",
              "  <style>\n",
              "    .colab-df-container {\n",
              "      display:flex;\n",
              "      flex-wrap:wrap;\n",
              "      gap: 12px;\n",
              "    }\n",
              "\n",
              "    .colab-df-convert {\n",
              "      background-color: #E8F0FE;\n",
              "      border: none;\n",
              "      border-radius: 50%;\n",
              "      cursor: pointer;\n",
              "      display: none;\n",
              "      fill: #1967D2;\n",
              "      height: 32px;\n",
              "      padding: 0 0 0 0;\n",
              "      width: 32px;\n",
              "    }\n",
              "\n",
              "    .colab-df-convert:hover {\n",
              "      background-color: #E2EBFA;\n",
              "      box-shadow: 0px 1px 2px rgba(60, 64, 67, 0.3), 0px 1px 3px 1px rgba(60, 64, 67, 0.15);\n",
              "      fill: #174EA6;\n",
              "    }\n",
              "\n",
              "    [theme=dark] .colab-df-convert {\n",
              "      background-color: #3B4455;\n",
              "      fill: #D2E3FC;\n",
              "    }\n",
              "\n",
              "    [theme=dark] .colab-df-convert:hover {\n",
              "      background-color: #434B5C;\n",
              "      box-shadow: 0px 1px 3px 1px rgba(0, 0, 0, 0.15);\n",
              "      filter: drop-shadow(0px 1px 2px rgba(0, 0, 0, 0.3));\n",
              "      fill: #FFFFFF;\n",
              "    }\n",
              "  </style>\n",
              "\n",
              "      <script>\n",
              "        const buttonEl =\n",
              "          document.querySelector('#df-5add7ac0-5224-47bd-9d08-2b933d40c3fe button.colab-df-convert');\n",
              "        buttonEl.style.display =\n",
              "          google.colab.kernel.accessAllowed ? 'block' : 'none';\n",
              "\n",
              "        async function convertToInteractive(key) {\n",
              "          const element = document.querySelector('#df-5add7ac0-5224-47bd-9d08-2b933d40c3fe');\n",
              "          const dataTable =\n",
              "            await google.colab.kernel.invokeFunction('convertToInteractive',\n",
              "                                                     [key], {});\n",
              "          if (!dataTable) return;\n",
              "\n",
              "          const docLinkHtml = 'Like what you see? Visit the ' +\n",
              "            '<a target=\"_blank\" href=https://colab.research.google.com/notebooks/data_table.ipynb>data table notebook</a>'\n",
              "            + ' to learn more about interactive tables.';\n",
              "          element.innerHTML = '';\n",
              "          dataTable['output_type'] = 'display_data';\n",
              "          await google.colab.output.renderOutput(dataTable, element);\n",
              "          const docLink = document.createElement('div');\n",
              "          docLink.innerHTML = docLinkHtml;\n",
              "          element.appendChild(docLink);\n",
              "        }\n",
              "      </script>\n",
              "    </div>\n",
              "  </div>\n",
              "  "
            ]
          },
          "metadata": {},
          "execution_count": 4
        }
      ],
      "source": [
        "MLENDLS_df = pd.read_csv('./ml_gender.csv').set_index('file_id') \n",
        "MLENDLS_df.head()"
      ]
    },
    {
      "cell_type": "markdown",
      "metadata": {
        "id": "-5bSG8FYXt1v"
      },
      "source": [
        "The following cell contains the extraction functions. The first function uses the librosa.ypin function to extract the pitch. The second function loops through all the files, computing the mean and standard deviation of their pitch and places it into a list, which is then added to an array. It also notes down the label of each file and adds it to the y array. "
      ]
    },
    {
      "cell_type": "code",
      "execution_count": null,
      "metadata": {
        "colab": {
          "base_uri": "https://localhost:8080/"
        },
        "id": "cgjB2p1vKOYa",
        "outputId": "5684e816-11eb-457f-d11e-5aa23257cfba"
      },
      "outputs": [
        {
          "output_type": "stream",
          "name": "stderr",
          "text": [
            "100%|██████████| 2498/2498 [1:11:45<00:00,  1.72s/it]\n"
          ]
        }
      ],
      "source": [
        "def getPitch(x,fs,winLen=0.02):\n",
        "  #winLen = 0.02 \n",
        "  p = winLen*fs\n",
        "  frame_length = int(2**int(p-1).bit_length())\n",
        "  hop_length = frame_length//2\n",
        "  f0, voiced_flag, voiced_probs = librosa.pyin(y=x, fmin=80, fmax=450, sr=fs,\n",
        "                                                 frame_length=frame_length,hop_length=hop_length)\n",
        "  return f0,voiced_flag \n",
        "\n",
        "def getXy(files,labels_file, scale_audio=False, onlySingleDigit=False):\n",
        "  X,y =[],[]\n",
        "\n",
        "  for file in tqdm(files):\n",
        "    fileID = file.split('/')[-1]\n",
        "    file_name = file.split('/')[-1]\n",
        "    yi = labels_file.loc[fileID]['Gender']=='female'\n",
        "\n",
        "    fs = None # if None, fs would be 22050\n",
        "    x, sr = librosa.load(file,sr=fs)\n",
        "    if scale_audio: x = x/np.max(np.abs(x))\n",
        "    f0, voiced_flag = getPitch(x,sr,winLen=0.02)\n",
        "      \n",
        "    power = np.sum(x**2)/len(x)\n",
        "    pitch_mean = np.nanmean(f0) if np.mean(np.isnan(f0))<1 else 0\n",
        "    pitch_std  = np.nanstd(f0) if np.mean(np.isnan(f0))<1 else 0\n",
        "    voiced_fr = np.mean(voiced_flag)\n",
        "\n",
        "    xi = [pitch_mean,pitch_std]\n",
        "    X.append(xi)\n",
        "    y.append(yi)\n",
        "\n",
        "  return np.array(X), np.array(y)\n",
        "\n",
        "X,y= getXy(files, labels_file=MLENDLS_df, scale_audio=True, onlySingleDigit=True)"
      ]
    },
    {
      "cell_type": "markdown",
      "metadata": {
        "id": "OSKB1YGJYHJ6"
      },
      "source": [
        "The output of the cell consists of two arrays. The X array has the pitch features for each file, whilst the y array has the True or False label for each array. "
      ]
    },
    {
      "cell_type": "markdown",
      "metadata": {
        "id": "ReJ07hiAcQUa"
      },
      "source": [
        "The following cell puts the X array into a pandas dataframe. "
      ]
    },
    {
      "cell_type": "code",
      "execution_count": null,
      "metadata": {
        "id": "AMvi4tBxbkwG",
        "colab": {
          "base_uri": "https://localhost:8080/",
          "height": 206
        },
        "outputId": "7cf6ee4a-251e-43b8-8b87-5b0252337f4b"
      },
      "outputs": [
        {
          "output_type": "execute_result",
          "data": {
            "text/plain": [
              "   pitch_mean   pitch_sd\n",
              "0  124.366324  37.368706\n",
              "1  133.282051  23.992064\n",
              "2    0.000000   0.000000\n",
              "3  236.657708  48.055864\n",
              "4  195.189920  22.814062"
            ],
            "text/html": [
              "\n",
              "  <div id=\"df-5a0ab29e-4354-4419-ac4a-f20cbd695f18\">\n",
              "    <div class=\"colab-df-container\">\n",
              "      <div>\n",
              "<style scoped>\n",
              "    .dataframe tbody tr th:only-of-type {\n",
              "        vertical-align: middle;\n",
              "    }\n",
              "\n",
              "    .dataframe tbody tr th {\n",
              "        vertical-align: top;\n",
              "    }\n",
              "\n",
              "    .dataframe thead th {\n",
              "        text-align: right;\n",
              "    }\n",
              "</style>\n",
              "<table border=\"1\" class=\"dataframe\">\n",
              "  <thead>\n",
              "    <tr style=\"text-align: right;\">\n",
              "      <th></th>\n",
              "      <th>pitch_mean</th>\n",
              "      <th>pitch_sd</th>\n",
              "    </tr>\n",
              "  </thead>\n",
              "  <tbody>\n",
              "    <tr>\n",
              "      <th>0</th>\n",
              "      <td>124.366324</td>\n",
              "      <td>37.368706</td>\n",
              "    </tr>\n",
              "    <tr>\n",
              "      <th>1</th>\n",
              "      <td>133.282051</td>\n",
              "      <td>23.992064</td>\n",
              "    </tr>\n",
              "    <tr>\n",
              "      <th>2</th>\n",
              "      <td>0.000000</td>\n",
              "      <td>0.000000</td>\n",
              "    </tr>\n",
              "    <tr>\n",
              "      <th>3</th>\n",
              "      <td>236.657708</td>\n",
              "      <td>48.055864</td>\n",
              "    </tr>\n",
              "    <tr>\n",
              "      <th>4</th>\n",
              "      <td>195.189920</td>\n",
              "      <td>22.814062</td>\n",
              "    </tr>\n",
              "  </tbody>\n",
              "</table>\n",
              "</div>\n",
              "      <button class=\"colab-df-convert\" onclick=\"convertToInteractive('df-5a0ab29e-4354-4419-ac4a-f20cbd695f18')\"\n",
              "              title=\"Convert this dataframe to an interactive table.\"\n",
              "              style=\"display:none;\">\n",
              "        \n",
              "  <svg xmlns=\"http://www.w3.org/2000/svg\" height=\"24px\"viewBox=\"0 0 24 24\"\n",
              "       width=\"24px\">\n",
              "    <path d=\"M0 0h24v24H0V0z\" fill=\"none\"/>\n",
              "    <path d=\"M18.56 5.44l.94 2.06.94-2.06 2.06-.94-2.06-.94-.94-2.06-.94 2.06-2.06.94zm-11 1L8.5 8.5l.94-2.06 2.06-.94-2.06-.94L8.5 2.5l-.94 2.06-2.06.94zm10 10l.94 2.06.94-2.06 2.06-.94-2.06-.94-.94-2.06-.94 2.06-2.06.94z\"/><path d=\"M17.41 7.96l-1.37-1.37c-.4-.4-.92-.59-1.43-.59-.52 0-1.04.2-1.43.59L10.3 9.45l-7.72 7.72c-.78.78-.78 2.05 0 2.83L4 21.41c.39.39.9.59 1.41.59.51 0 1.02-.2 1.41-.59l7.78-7.78 2.81-2.81c.8-.78.8-2.07 0-2.86zM5.41 20L4 18.59l7.72-7.72 1.47 1.35L5.41 20z\"/>\n",
              "  </svg>\n",
              "      </button>\n",
              "      \n",
              "  <style>\n",
              "    .colab-df-container {\n",
              "      display:flex;\n",
              "      flex-wrap:wrap;\n",
              "      gap: 12px;\n",
              "    }\n",
              "\n",
              "    .colab-df-convert {\n",
              "      background-color: #E8F0FE;\n",
              "      border: none;\n",
              "      border-radius: 50%;\n",
              "      cursor: pointer;\n",
              "      display: none;\n",
              "      fill: #1967D2;\n",
              "      height: 32px;\n",
              "      padding: 0 0 0 0;\n",
              "      width: 32px;\n",
              "    }\n",
              "\n",
              "    .colab-df-convert:hover {\n",
              "      background-color: #E2EBFA;\n",
              "      box-shadow: 0px 1px 2px rgba(60, 64, 67, 0.3), 0px 1px 3px 1px rgba(60, 64, 67, 0.15);\n",
              "      fill: #174EA6;\n",
              "    }\n",
              "\n",
              "    [theme=dark] .colab-df-convert {\n",
              "      background-color: #3B4455;\n",
              "      fill: #D2E3FC;\n",
              "    }\n",
              "\n",
              "    [theme=dark] .colab-df-convert:hover {\n",
              "      background-color: #434B5C;\n",
              "      box-shadow: 0px 1px 3px 1px rgba(0, 0, 0, 0.15);\n",
              "      filter: drop-shadow(0px 1px 2px rgba(0, 0, 0, 0.3));\n",
              "      fill: #FFFFFF;\n",
              "    }\n",
              "  </style>\n",
              "\n",
              "      <script>\n",
              "        const buttonEl =\n",
              "          document.querySelector('#df-5a0ab29e-4354-4419-ac4a-f20cbd695f18 button.colab-df-convert');\n",
              "        buttonEl.style.display =\n",
              "          google.colab.kernel.accessAllowed ? 'block' : 'none';\n",
              "\n",
              "        async function convertToInteractive(key) {\n",
              "          const element = document.querySelector('#df-5a0ab29e-4354-4419-ac4a-f20cbd695f18');\n",
              "          const dataTable =\n",
              "            await google.colab.kernel.invokeFunction('convertToInteractive',\n",
              "                                                     [key], {});\n",
              "          if (!dataTable) return;\n",
              "\n",
              "          const docLinkHtml = 'Like what you see? Visit the ' +\n",
              "            '<a target=\"_blank\" href=https://colab.research.google.com/notebooks/data_table.ipynb>data table notebook</a>'\n",
              "            + ' to learn more about interactive tables.';\n",
              "          element.innerHTML = '';\n",
              "          dataTable['output_type'] = 'display_data';\n",
              "          await google.colab.output.renderOutput(dataTable, element);\n",
              "          const docLink = document.createElement('div');\n",
              "          docLink.innerHTML = docLinkHtml;\n",
              "          element.appendChild(docLink);\n",
              "        }\n",
              "      </script>\n",
              "    </div>\n",
              "  </div>\n",
              "  "
            ]
          },
          "metadata": {},
          "execution_count": 6
        }
      ],
      "source": [
        "X_df = pd.DataFrame(X)\n",
        "X_df = X_df.rename(columns = {0:\"pitch_mean\", 1:\"pitch_sd\"})\n",
        "X_df.head()"
      ]
    },
    {
      "cell_type": "markdown",
      "metadata": {
        "id": "HNV3MBR_cYlL"
      },
      "source": [
        "The output is a pandas dataframe with the two pitch features. "
      ]
    },
    {
      "cell_type": "markdown",
      "metadata": {
        "id": "69bZ7jELcbPR"
      },
      "source": [
        "The following cell creates a dataframe with each sample having its male or female label. "
      ]
    },
    {
      "cell_type": "code",
      "execution_count": null,
      "metadata": {
        "id": "VPhHa1BucD3L",
        "colab": {
          "base_uri": "https://localhost:8080/",
          "height": 206
        },
        "outputId": "de8df2ef-9b62-42fe-a657-50b24f5af9ed"
      },
      "outputs": [
        {
          "output_type": "execute_result",
          "data": {
            "text/plain": [
              "   pitch_mean   pitch_sd  labels\n",
              "0  124.366324  37.368706   False\n",
              "1  133.282051  23.992064   False\n",
              "2    0.000000   0.000000   False\n",
              "3  236.657708  48.055864    True\n",
              "4  195.189920  22.814062    True"
            ],
            "text/html": [
              "\n",
              "  <div id=\"df-d82332d8-8379-4465-ba5b-3e931f72426b\">\n",
              "    <div class=\"colab-df-container\">\n",
              "      <div>\n",
              "<style scoped>\n",
              "    .dataframe tbody tr th:only-of-type {\n",
              "        vertical-align: middle;\n",
              "    }\n",
              "\n",
              "    .dataframe tbody tr th {\n",
              "        vertical-align: top;\n",
              "    }\n",
              "\n",
              "    .dataframe thead th {\n",
              "        text-align: right;\n",
              "    }\n",
              "</style>\n",
              "<table border=\"1\" class=\"dataframe\">\n",
              "  <thead>\n",
              "    <tr style=\"text-align: right;\">\n",
              "      <th></th>\n",
              "      <th>pitch_mean</th>\n",
              "      <th>pitch_sd</th>\n",
              "      <th>labels</th>\n",
              "    </tr>\n",
              "  </thead>\n",
              "  <tbody>\n",
              "    <tr>\n",
              "      <th>0</th>\n",
              "      <td>124.366324</td>\n",
              "      <td>37.368706</td>\n",
              "      <td>False</td>\n",
              "    </tr>\n",
              "    <tr>\n",
              "      <th>1</th>\n",
              "      <td>133.282051</td>\n",
              "      <td>23.992064</td>\n",
              "      <td>False</td>\n",
              "    </tr>\n",
              "    <tr>\n",
              "      <th>2</th>\n",
              "      <td>0.000000</td>\n",
              "      <td>0.000000</td>\n",
              "      <td>False</td>\n",
              "    </tr>\n",
              "    <tr>\n",
              "      <th>3</th>\n",
              "      <td>236.657708</td>\n",
              "      <td>48.055864</td>\n",
              "      <td>True</td>\n",
              "    </tr>\n",
              "    <tr>\n",
              "      <th>4</th>\n",
              "      <td>195.189920</td>\n",
              "      <td>22.814062</td>\n",
              "      <td>True</td>\n",
              "    </tr>\n",
              "  </tbody>\n",
              "</table>\n",
              "</div>\n",
              "      <button class=\"colab-df-convert\" onclick=\"convertToInteractive('df-d82332d8-8379-4465-ba5b-3e931f72426b')\"\n",
              "              title=\"Convert this dataframe to an interactive table.\"\n",
              "              style=\"display:none;\">\n",
              "        \n",
              "  <svg xmlns=\"http://www.w3.org/2000/svg\" height=\"24px\"viewBox=\"0 0 24 24\"\n",
              "       width=\"24px\">\n",
              "    <path d=\"M0 0h24v24H0V0z\" fill=\"none\"/>\n",
              "    <path d=\"M18.56 5.44l.94 2.06.94-2.06 2.06-.94-2.06-.94-.94-2.06-.94 2.06-2.06.94zm-11 1L8.5 8.5l.94-2.06 2.06-.94-2.06-.94L8.5 2.5l-.94 2.06-2.06.94zm10 10l.94 2.06.94-2.06 2.06-.94-2.06-.94-.94-2.06-.94 2.06-2.06.94z\"/><path d=\"M17.41 7.96l-1.37-1.37c-.4-.4-.92-.59-1.43-.59-.52 0-1.04.2-1.43.59L10.3 9.45l-7.72 7.72c-.78.78-.78 2.05 0 2.83L4 21.41c.39.39.9.59 1.41.59.51 0 1.02-.2 1.41-.59l7.78-7.78 2.81-2.81c.8-.78.8-2.07 0-2.86zM5.41 20L4 18.59l7.72-7.72 1.47 1.35L5.41 20z\"/>\n",
              "  </svg>\n",
              "      </button>\n",
              "      \n",
              "  <style>\n",
              "    .colab-df-container {\n",
              "      display:flex;\n",
              "      flex-wrap:wrap;\n",
              "      gap: 12px;\n",
              "    }\n",
              "\n",
              "    .colab-df-convert {\n",
              "      background-color: #E8F0FE;\n",
              "      border: none;\n",
              "      border-radius: 50%;\n",
              "      cursor: pointer;\n",
              "      display: none;\n",
              "      fill: #1967D2;\n",
              "      height: 32px;\n",
              "      padding: 0 0 0 0;\n",
              "      width: 32px;\n",
              "    }\n",
              "\n",
              "    .colab-df-convert:hover {\n",
              "      background-color: #E2EBFA;\n",
              "      box-shadow: 0px 1px 2px rgba(60, 64, 67, 0.3), 0px 1px 3px 1px rgba(60, 64, 67, 0.15);\n",
              "      fill: #174EA6;\n",
              "    }\n",
              "\n",
              "    [theme=dark] .colab-df-convert {\n",
              "      background-color: #3B4455;\n",
              "      fill: #D2E3FC;\n",
              "    }\n",
              "\n",
              "    [theme=dark] .colab-df-convert:hover {\n",
              "      background-color: #434B5C;\n",
              "      box-shadow: 0px 1px 3px 1px rgba(0, 0, 0, 0.15);\n",
              "      filter: drop-shadow(0px 1px 2px rgba(0, 0, 0, 0.3));\n",
              "      fill: #FFFFFF;\n",
              "    }\n",
              "  </style>\n",
              "\n",
              "      <script>\n",
              "        const buttonEl =\n",
              "          document.querySelector('#df-d82332d8-8379-4465-ba5b-3e931f72426b button.colab-df-convert');\n",
              "        buttonEl.style.display =\n",
              "          google.colab.kernel.accessAllowed ? 'block' : 'none';\n",
              "\n",
              "        async function convertToInteractive(key) {\n",
              "          const element = document.querySelector('#df-d82332d8-8379-4465-ba5b-3e931f72426b');\n",
              "          const dataTable =\n",
              "            await google.colab.kernel.invokeFunction('convertToInteractive',\n",
              "                                                     [key], {});\n",
              "          if (!dataTable) return;\n",
              "\n",
              "          const docLinkHtml = 'Like what you see? Visit the ' +\n",
              "            '<a target=\"_blank\" href=https://colab.research.google.com/notebooks/data_table.ipynb>data table notebook</a>'\n",
              "            + ' to learn more about interactive tables.';\n",
              "          element.innerHTML = '';\n",
              "          dataTable['output_type'] = 'display_data';\n",
              "          await google.colab.output.renderOutput(dataTable, element);\n",
              "          const docLink = document.createElement('div');\n",
              "          docLink.innerHTML = docLinkHtml;\n",
              "          element.appendChild(docLink);\n",
              "        }\n",
              "      </script>\n",
              "    </div>\n",
              "  </div>\n",
              "  "
            ]
          },
          "metadata": {},
          "execution_count": 7
        }
      ],
      "source": [
        "X_y = pd.DataFrame(X)\n",
        "X_y = X_y.rename(columns = {0:\"pitch_mean\", 1:\"pitch_sd\"})\n",
        "X_y[\"labels\"] = y\n",
        "X_y.head()"
      ]
    },
    {
      "cell_type": "markdown",
      "metadata": {
        "id": "btincSQycf3Q"
      },
      "source": [
        "The output is a pandas dataframe with the pitch features and the respective label of each sample. This makes it easier to explore and visualize the data later. "
      ]
    },
    {
      "cell_type": "markdown",
      "metadata": {
        "id": "L9MRVQzBbWz1"
      },
      "source": [
        "The X and y dataframes are split into training and validating portions, with a 70%/30% split respectively. "
      ]
    },
    {
      "cell_type": "code",
      "execution_count": null,
      "metadata": {
        "id": "2JGfgd3mYOTQ"
      },
      "outputs": [],
      "source": [
        "X_train, X_val, y_train, y_val = train_test_split(X_df,y,test_size=0.3, random_state = 10)"
      ]
    },
    {
      "cell_type": "markdown",
      "metadata": {
        "id": "VO0DMyXuo1eb"
      },
      "source": [
        "# 4 Modelling"
      ]
    },
    {
      "cell_type": "markdown",
      "metadata": {
        "id": "JkQZLNjfo3vs"
      },
      "source": [
        "Six models are built and evaluated through cross-validation. The first four are K-Nearest Neighbors, Gaussian Naive Bayes, a Logistic Regression. \n",
        "\n",
        "The following three are ensemble methods. The first is the RandomForestClassifier, the second the AdaBoostClassifier, and the third a \n",
        "VotingClassifier using the three classifiers mentioned in the previous paragraph in addition to the AdaBoostClassifier and RandomForestClassifier as its voters. \n",
        "\n",
        "The following hyper-parameters are tested for the models:\n",
        "\n",
        "KNN: k values from 1 to 100. \n",
        "\n",
        "Gaussian Naive Bayes: the var_smoothing value ranges from 1e-05 to 1e-13. \n",
        "\n",
        "Logistic Regression: the C values of 100, 10, 1.0, 0.1 and 0.01 are tested. Class weights are set to balanced to account for the imbalanced dataset.\n",
        "\n",
        "Random Forest Classifier: The following n_estimator values are tested: 200, 400, 600, 800, 1000, 1200, 1400, 1600, 1800, 2000. The max_features \"auto\" and \"sqrt\" options are tested. For max_depth the following values are tested: 10, 20, 30, 40, 50, 60, 70, 80, 90, 100, 110 as well as None. The values 2, 5 and 10 are used for min_samples_split, and the values 1, 2 and 4 for min_sampels_leaf. For bootstrapping True and False are returned. The RandomForest classifier is the only classifier which uses the RandomizedSearchCV function rather than GridSearch due to the relatively high number of hyperparameters and the high computational cost of the model. \n",
        "\n",
        "AdaBoostClassifier: The AdaBoostClassifier uses the values: 10, 50, 100 and 500 for the n_estimators hyperparameter, and the values 1.0, 0.1, 0.01, 0.0001, and 0.0001 for the learning_rate hyperparameter. \n",
        "\n",
        "VotingClassifier: This classifier uses the the KNN, Gaussian Naive Bayes, Logistic Regression, RandomForestClassifier and the AdaBoostClassifier. Each of these classifiers uses the optimal parameters found previously. \n",
        "\n",
        "The first three models were used as they have the capacity for binary classification and are relatively inexpensive in terms of computational requirements.\n",
        "\n",
        "The ensemble methods were used as more computationally expensive options, in an attempt to produce better accuracy results. "
      ]
    },
    {
      "cell_type": "markdown",
      "metadata": {
        "id": "M7Eie1xVkn5J"
      },
      "source": [
        "# 5 Methodology\n",
        "\n",
        "The initial dataset of 2498 samples will be randomly divided into a 70% training portion and a 30% validation portion. The randomness is designed to not bias the training process towards any specific subsets of the data, meaning the model can perform well on unseen data. \n",
        "\n",
        "The 70-30 split is designed to offer the model enough data to find the patterns in the data during training, and to estimate an accurate testing performance during validation. \n",
        "\n",
        "During the training process cross-validation using 5 folds will find the optimal hyperparameters for each model. As the data is imbalanced in favour of men the scoring metric will be \"balanced_accuracy\". \n",
        "\n",
        "Balanced accuracy is an average between specificity and sensitivity. Specificity refers to the number of true positives which were predicted out of all positives which exist (which includes true positives and false negatives).Sensitivity refers to the number of true negatives out of all negatives which exist(which includes true negatives and false positives). The two are added and divided by two.\n",
        "\n",
        "In cases where the data is imbalanced this offers a supperior performance metric to accuracy, as it optimizes the performance of the model through accounting for its ability to classify both classes. "
      ]
    },
    {
      "cell_type": "markdown",
      "metadata": {
        "id": "Y3g5AxnCkoJn"
      },
      "source": [
        "# 6 Dataset\n",
        "\n",
        "The data consists of 2498 audio samples, with each sample having a pitch mean and a pitch standard deviation feature. Each sample also has a male or female label, which was achieved through manual labelling. Initially there were 2500 files, however, 2 of them were faulty and produced errors during the feature extraction process, meaning they were removed. \n",
        "\n"
      ]
    },
    {
      "cell_type": "markdown",
      "metadata": {
        "id": "EGcuSDGkG_ph"
      },
      "source": [
        "The below cell visualizes the distribution of male and female labels across the two features. It appears the two are somewhat distinct when looking at pitch mean, and less so when looking at pitch standard deviation. \n",
        "\n",
        "Overall, the classifiers should be able to predict the labels with a success rate which is better than random. "
      ]
    },
    {
      "cell_type": "code",
      "execution_count": null,
      "metadata": {
        "id": "0T5DnCy6GvlL",
        "colab": {
          "base_uri": "https://localhost:8080/",
          "height": 391
        },
        "outputId": "82af36d0-7559-4b40-8b5e-702656925697"
      },
      "outputs": [
        {
          "output_type": "execute_result",
          "data": {
            "text/plain": [
              "<seaborn.axisgrid.PairGrid at 0x7f5e40aa2b20>"
            ]
          },
          "metadata": {},
          "execution_count": 9
        },
        {
          "output_type": "display_data",
          "data": {
            "text/plain": [
              "<Figure size 421.25x360 with 6 Axes>"
            ],
            "image/png": "[encoded data removed]"
          },
          "metadata": {
            "needs_background": "light"
          }
        }
      ],
      "source": [
        "sns.pairplot(X_y, hue = \"labels\")"
      ]
    },
    {
      "cell_type": "markdown",
      "metadata": {
        "id": "78MAlicrHjh5"
      },
      "source": [
        "The following cell shows the counts of both labels."
      ]
    },
    {
      "cell_type": "code",
      "execution_count": null,
      "metadata": {
        "id": "gtdRp9owHcGB",
        "colab": {
          "base_uri": "https://localhost:8080/"
        },
        "outputId": "62486f01-73ea-4ef8-a2db-b08e14a5c955"
      },
      "outputs": [
        {
          "output_type": "execute_result",
          "data": {
            "text/plain": [
              "False    1514\n",
              "True      984\n",
              "Name: labels, dtype: int64"
            ]
          },
          "metadata": {},
          "execution_count": 10
        }
      ],
      "source": [
        "X_y[\"labels\"].value_counts()"
      ]
    },
    {
      "cell_type": "code",
      "execution_count": null,
      "metadata": {
        "id": "0dT3Rxd-Hv9W",
        "colab": {
          "base_uri": "https://localhost:8080/"
        },
        "outputId": "6fc83bc1-6e51-4956-c43b-20a963bb8470"
      },
      "outputs": [
        {
          "output_type": "execute_result",
          "data": {
            "text/plain": [
              "39.391513210568455"
            ]
          },
          "metadata": {},
          "execution_count": 11
        }
      ],
      "source": [
        "(984/(1514+984)) * 100"
      ]
    },
    {
      "cell_type": "markdown",
      "metadata": {
        "id": "CscMmI-QHnDg"
      },
      "source": [
        "There are far more false (male) labels than true (female) labels, meaning the dataset is quite significantly imbalanced. The minority class accounts for 39% of the dataset. "
      ]
    },
    {
      "cell_type": "markdown",
      "metadata": {
        "id": "_E1GvJcZcura"
      },
      "source": [
        "# 7 Results\n"
      ]
    },
    {
      "cell_type": "markdown",
      "metadata": {
        "id": "vJqA3yS7c4Mp"
      },
      "source": [
        "## KNN"
      ]
    },
    {
      "cell_type": "markdown",
      "metadata": {
        "id": "1xhCcr-Kf0De"
      },
      "source": [
        "The following cell runs the K-Nearest Neighbors function. The knn_val function includes the generation of the various hyperparameter options, and then testing those hyperparameters using the GridSearchCV function. A cv value of 5 is used, meaning 5 folds are being used. The \"balanced accuracy\" scoring option is used to ensure the GridSearchCV function finds the hyperparameters which classify the two classes evenly. "
      ]
    },
    {
      "cell_type": "code",
      "execution_count": null,
      "metadata": {
        "id": "61K_Fujtcn84",
        "colab": {
          "base_uri": "https://localhost:8080/"
        },
        "outputId": "b3b3edfe-2194-483f-9508-ab1cfa85112c"
      },
      "outputs": [
        {
          "output_type": "execute_result",
          "data": {
            "text/plain": [
              "(0.8534452925511882, {'n_neighbors': 33})"
            ]
          },
          "metadata": {},
          "execution_count": 12
        }
      ],
      "source": [
        "def knn_val():\n",
        "  # Generating all hyperparameter values \n",
        "  k_list = []\n",
        "  for i in range(1, 100):\n",
        "    k_list.append(i)\n",
        "  \n",
        "  param_grid_knn = {\"n_neighbors\" : k_list}\n",
        "\n",
        "  # Computing accuracies for non-transformed data\n",
        "  knn_initial = KNeighborsClassifier()\n",
        "  knn = GridSearchCV(knn_initial, param_grid_knn ,cv = 5, scoring = \"balanced_accuracy\")\n",
        "\n",
        "  knn.fit(X_train, y_train)\n",
        "\n",
        "  return knn.best_score_, knn.best_params_\n",
        "\n",
        "\n",
        "knn_best_score, knn_best_params = knn_val()\n",
        "knn_best_score, knn_best_params"
      ]
    },
    {
      "cell_type": "markdown",
      "metadata": {
        "id": "2qlUdEYEgUzq"
      },
      "source": [
        "The cell has two outputs. The first is the cross-validation accuracy of the best performing hyperparameters, and the second the best performing hyperparameter. "
      ]
    },
    {
      "cell_type": "markdown",
      "metadata": {
        "id": "sTo73ZMsc3V5"
      },
      "source": [
        "## GNB"
      ]
    },
    {
      "cell_type": "markdown",
      "metadata": {
        "id": "oOY4ownZgjyq"
      },
      "source": [
        "The following cell trains and cross-validates the Gaussian Naive Bayes classifier. The function generates options for the var_smoothing hyperparameter ranging from 1e-05 to 1e-13. The function then cross-validates across 5 folds, using \"balanced accuracy\" as the scoring metric. "
      ]
    },
    {
      "cell_type": "code",
      "execution_count": null,
      "metadata": {
        "id": "sZncKRnyc72J",
        "colab": {
          "base_uri": "https://localhost:8080/"
        },
        "outputId": "d5451336-5abd-4b51-e9ad-4ab17af6087d"
      },
      "outputs": [
        {
          "output_type": "execute_result",
          "data": {
            "text/plain": [
              "(0.8046228280255399, {'var_smoothing': 1e-05})"
            ]
          },
          "metadata": {},
          "execution_count": 13
        }
      ],
      "source": [
        "def gnb_val():\n",
        "  # Defining hyperparameters\n",
        "  parameters_gnb = [1e-05, 1e-06, 1e-07, 1e-08, 1e-09, 1e-10, 1e-11, 1e-12, 1e-13]\n",
        "  param_gnb = {\"var_smoothing\" : parameters_gnb}\n",
        "\n",
        "  gnb_init = GaussianNB()\n",
        "  gnb = GridSearchCV(gnb_init, param_gnb, scoring = \"balanced_accuracy\")\n",
        "  gnb.fit(X_train, y_train)\n",
        "\n",
        "  \n",
        "  return gnb.best_score_, gnb.best_params_\n",
        "\n",
        "gnb_best_score, gnb_best_params = gnb_val()\n",
        "gnb_best_score, gnb_best_params"
      ]
    },
    {
      "cell_type": "markdown",
      "metadata": {
        "id": "Az3nHpbbg29i"
      },
      "source": [
        "The cell has two outputs, the cross-validation accuracy and the best hyperparameters. "
      ]
    },
    {
      "cell_type": "markdown",
      "metadata": {
        "id": "6YXt-bQkdATq"
      },
      "source": [
        "## Logistic Regression"
      ]
    },
    {
      "cell_type": "markdown",
      "metadata": {
        "id": "xY_lYtVug9ah"
      },
      "source": [
        "The following cell trains and cross-validates the logistic regression classifier. C values of 100, 10, 1.0, 0.1, and 0.01 are tested. A max_iter of 300 is set, and the class_weight is set to \"balanced\" to account for the imbalanced dataset. The classifier is cross-validated across 5 folds, using \"balanced accuracy\" as the scoring metric. "
      ]
    },
    {
      "cell_type": "code",
      "execution_count": null,
      "metadata": {
        "id": "yaTa1TUodAmY",
        "colab": {
          "base_uri": "https://localhost:8080/"
        },
        "outputId": "eeb4eeb3-e762-47d3-a9ee-7c28d431afed"
      },
      "outputs": [
        {
          "output_type": "execute_result",
          "data": {
            "text/plain": [
              "(0.7438449309756616, {'C': 100})"
            ]
          },
          "metadata": {},
          "execution_count": 14
        }
      ],
      "source": [
        "def logistic_regression_val():\n",
        "  c = [100, 10, 1.0, 0.1, 0.01]\n",
        "  log_reg_param = {\"C\" : c}\n",
        "\n",
        "  logreg_init = LogisticRegression(max_iter = 300, class_weight = \"balanced\")\n",
        "  logreg = GridSearchCV(logreg_init, log_reg_param, scoring = \"balanced_accuracy\")\n",
        "  logreg.fit(X_train, y_train)\n",
        "\n",
        "  return logreg.best_score_, logreg.best_params_\n",
        "\n",
        "logreg_best_score, logreg_best_params = logistic_regression_val()\n",
        "logreg_best_score, logreg_best_params"
      ]
    },
    {
      "cell_type": "markdown",
      "metadata": {
        "id": "lPqVKYoBhWoI"
      },
      "source": [
        "The cell has two outputs. The first is the cross-validation score, and the second the optimal hyperparameter. "
      ]
    },
    {
      "cell_type": "markdown",
      "metadata": {
        "id": "5FJi_KFodJZg"
      },
      "source": [
        "## Random Forest"
      ]
    },
    {
      "cell_type": "markdown",
      "metadata": {
        "id": "R1z8GoNghcNY"
      },
      "source": [
        "The following cell trains and cross-validates the random forest classifier. 6 hyperparameters are tested. The n_iter setting is set to 80, and the classifier is cross-validated across 5 folds using the \"balanced_accuracy\" scoring metric. "
      ]
    },
    {
      "cell_type": "code",
      "execution_count": null,
      "metadata": {
        "id": "Hy4tDDKxdJow",
        "colab": {
          "base_uri": "https://localhost:8080/"
        },
        "outputId": "b681764e-2d92-449f-c467-776268f61c4c"
      },
      "outputs": [
        {
          "output_type": "execute_result",
          "data": {
            "text/plain": [
              "(0.8482364934811711,\n",
              " {'n_estimators': 2000,\n",
              "  'min_samples_split': 5,\n",
              "  'min_samples_leaf': 4,\n",
              "  'max_features': 'sqrt',\n",
              "  'max_depth': None,\n",
              "  'bootstrap': True})"
            ]
          },
          "metadata": {},
          "execution_count": 15
        }
      ],
      "source": [
        "def random_forest():\n",
        "  n_estimators = [200, 400, 600, 800, 1000, 1200, 1400, 1600, 1800, 2000]\n",
        "  max_features = ['auto', 'sqrt']\n",
        "  max_depth = [10, 20, 30, 40, 50, 60, 70, 80, 90, 100, 110]\n",
        "  max_depth.append(None)\n",
        "  min_samples_split = [2, 5, 10] \n",
        "  min_samples_leaf = [1, 2, 4]\n",
        "  bootstrap = [True, False]\n",
        "\n",
        "  random_grid = {'n_estimators': n_estimators,\n",
        "               'max_features': max_features,\n",
        "               'max_depth': max_depth,\n",
        "               'min_samples_split': min_samples_split,\n",
        "               'min_samples_leaf': min_samples_leaf,\n",
        "               'bootstrap': bootstrap}\n",
        "\n",
        "  rf = RandomForestClassifier()\n",
        "  rf_random = RandomizedSearchCV(estimator = rf, param_distributions = random_grid, n_iter = 80, cv = 5, scoring = \"balanced_accuracy\")\n",
        "  rf_random.fit(X_train, y_train)\n",
        "\n",
        "\n",
        "  return rf_random.best_score_, rf_random.best_params_\n",
        "\n",
        "rf_random_best_score, rf_random_best_params = random_forest()\n",
        "rf_random_best_score, rf_random_best_params"
      ]
    },
    {
      "cell_type": "markdown",
      "metadata": {
        "id": "4Od__Hithxb4"
      },
      "source": [
        "The cell has two outputs. The cross-validation accuracy, and the best hyperparameters. "
      ]
    },
    {
      "cell_type": "markdown",
      "metadata": {
        "id": "EcYE4NrvdYyI"
      },
      "source": [
        "## Ada Boost Classifier"
      ]
    },
    {
      "cell_type": "markdown",
      "metadata": {
        "id": "Ln2V58a3iav4"
      },
      "source": [
        "The following cell trains and cross-validates the AdaBoostClassifier. It tunes the n_estimators and learning_rate hyperparameters. It cross_validates across 5 folds, and uses the balanced_accuracy scoring metric. "
      ]
    },
    {
      "cell_type": "code",
      "execution_count": null,
      "metadata": {
        "id": "yXT9UJNfdZBw",
        "colab": {
          "base_uri": "https://localhost:8080/"
        },
        "outputId": "aa2b2344-e89a-4471-c2db-efee264b11f1"
      },
      "outputs": [
        {
          "output_type": "execute_result",
          "data": {
            "text/plain": [
              "(0.8411874412463776, {'learning_rate': 1.0, 'n_estimators': 500})"
            ]
          },
          "metadata": {},
          "execution_count": 16
        }
      ],
      "source": [
        "def ada_boost():\n",
        "  ada_param_grid = {\"n_estimators\" : [10, 50, 100, 500],\n",
        "                    \"learning_rate\" : [0.0001, 0.001, 0.01, 0.1, 1.0]}\n",
        "  \n",
        "  ada_init = AdaBoostClassifier()\n",
        "  ada = GridSearchCV(estimator=ada_init, param_grid=ada_param_grid, cv=5, scoring = \"balanced_accuracy\")\n",
        "  ada.fit(X_train, y_train)\n",
        "\n",
        "  return ada.best_score_, ada.best_params_\n",
        "\n",
        "ada_best_score, ada_best_params = ada_boost()\n",
        "ada_best_score, ada_best_params"
      ]
    },
    {
      "cell_type": "markdown",
      "metadata": {
        "id": "DbB-6s8HiREP"
      },
      "source": [
        "The cell has two outputs. The cross-validation accuracy, and the best hyperparameters. "
      ]
    },
    {
      "cell_type": "markdown",
      "metadata": {
        "id": "nIVCAEWcdg6A"
      },
      "source": [
        "## Voting Classifier"
      ]
    },
    {
      "cell_type": "markdown",
      "metadata": {
        "id": "XTlJUkG0ivJ5"
      },
      "source": [
        "The following cell fits the Voting Classifier. The model has 5 voters: KNN, Logistic Regression, GNB, Random Forest, and the AdaBoostClassifier. Each voter uses the optimal parameters achieved through cross_validation. "
      ]
    },
    {
      "cell_type": "code",
      "execution_count": null,
      "metadata": {
        "id": "HdwzZf21dgbv",
        "colab": {
          "base_uri": "https://localhost:8080/"
        },
        "outputId": "51a35eb4-6baf-4562-c0bb-16d21da75a38"
      },
      "outputs": [
        {
          "output_type": "execute_result",
          "data": {
            "text/plain": [
              "0.8506884977486697"
            ]
          },
          "metadata": {},
          "execution_count": 17
        }
      ],
      "source": [
        "def voting_classifier():\n",
        "  \n",
        "  knn = KNeighborsClassifier(n_neighbors = 33)\n",
        "\n",
        "  logreg = LogisticRegression(C = 100)\n",
        "\n",
        "  gnb = GaussianNB(var_smoothing = 1e-05)\n",
        "\n",
        "  rf = RandomForestClassifier(n_estimators = 1000,\n",
        "                              min_samples_split = 5, \n",
        "                              min_samples_leaf = 4, \n",
        "                              max_features = \"auto\", \n",
        "                              max_depth = 110, \n",
        "                              bootstrap = True)\n",
        "\n",
        "  ada = AdaBoostClassifier(learning_rate = 1.0, n_estimators = 500)\n",
        "  \n",
        "  vc = VotingClassifier(estimators = [(\"knn\", knn), (\"logreg\", logreg), (\"gnb\", gnb),(\"rf\", rf), (\"ada\", ada)], voting = \"hard\")\n",
        "  vc.fit(X_train, y_train)\n",
        "\n",
        "\n",
        "  return cross_val_score(vc, X_train, y_train, cv=5)\n",
        "\n",
        "vc_score = voting_classifier()\n",
        "sum(vc_score)/len(vc_score)"
      ]
    },
    {
      "cell_type": "markdown",
      "metadata": {
        "id": "e1wKFY5WiSp_"
      },
      "source": [
        "The cell has one output. The average cross-validation score of the voting classifier. "
      ]
    },
    {
      "cell_type": "markdown",
      "metadata": {
        "id": "nZpvgw5m6l8M"
      },
      "source": [
        "## Re-training best classifiers \n",
        "\n",
        "The Voting Classifier, the Random Forest Classifier and the KNN Classifier produced the best cross-validation accuracies, therefore they shall be retrained on the entire 70% of the training data, before a final test on the validation dataset which consists of 30% of the original dataset. "
      ]
    },
    {
      "cell_type": "code",
      "execution_count": null,
      "metadata": {
        "id": "oZ7KOBfF8bPm",
        "colab": {
          "base_uri": "https://localhost:8080/"
        },
        "outputId": "6e920bb6-1dd7-4f9e-af45-6cfe9d18b4c0"
      },
      "outputs": [
        {
          "output_type": "stream",
          "name": "stdout",
          "text": [
            "0.8707093821510298\n",
            "0.832\n"
          ]
        }
      ],
      "source": [
        "knn = KNeighborsClassifier(n_neighbors = 33)\n",
        "\n",
        "logreg = LogisticRegression(C = 100)\n",
        "\n",
        "gnb = GaussianNB(var_smoothing = 1e-05)\n",
        "\n",
        "rf = RandomForestClassifier(n_estimators = 1000,\n",
        "                            min_samples_split = 5, \n",
        "                            min_samples_leaf = 4, \n",
        "                            max_features = \"auto\", \n",
        "                            max_depth = 110, \n",
        "                            bootstrap = True)\n",
        "\n",
        "ada = AdaBoostClassifier(learning_rate = 1.0, n_estimators = 500)\n",
        "  \n",
        "vc = VotingClassifier(estimators = [(\"knn\", knn), (\"logreg\", logreg), (\"gnb\", gnb),(\"rf\", rf), (\"ada\", ada)], voting = \"hard\")\n",
        "vc.fit(X_train, y_train)\n",
        "print(vc.score(X_train, y_train))\n",
        "print(vc.score(X_val, y_val))"
      ]
    },
    {
      "cell_type": "code",
      "execution_count": null,
      "metadata": {
        "id": "0-j6TYQ09D2O",
        "colab": {
          "base_uri": "https://localhost:8080/"
        },
        "outputId": "d7f5c8c6-6f24-42a8-e2cb-9171c1d68dbf"
      },
      "outputs": [
        {
          "output_type": "stream",
          "name": "stdout",
          "text": [
            "              precision    recall  f1-score   support\n",
            "\n",
            "       False       0.86      0.86      0.86       458\n",
            "        True       0.78      0.79      0.78       292\n",
            "\n",
            "    accuracy                           0.83       750\n",
            "   macro avg       0.82      0.82      0.82       750\n",
            "weighted avg       0.83      0.83      0.83       750\n",
            "\n",
            "[[394  64]\n",
            " [ 62 230]]\n"
          ]
        }
      ],
      "source": [
        "y_pred = vc.predict(X_val)\n",
        "print(classification_report(y_val, y_pred))\n",
        "print(confusion_matrix(y_val, y_pred))"
      ]
    },
    {
      "cell_type": "code",
      "execution_count": null,
      "metadata": {
        "id": "R_Bx9Rwt6oQW",
        "colab": {
          "base_uri": "https://localhost:8080/"
        },
        "outputId": "bab5bd2f-d715-4217-88d1-4c7f7d8f3851"
      },
      "outputs": [
        {
          "output_type": "stream",
          "name": "stdout",
          "text": [
            "0.8569794050343249\n",
            "0.836\n"
          ]
        }
      ],
      "source": [
        "knn.fit(X_train, y_train)\n",
        "print(knn.score(X_train, y_train))\n",
        "print(knn.score(X_val, y_val))"
      ]
    },
    {
      "cell_type": "code",
      "execution_count": null,
      "metadata": {
        "id": "9pKW0CvC9OCP",
        "colab": {
          "base_uri": "https://localhost:8080/"
        },
        "outputId": "e230e0c1-a63c-4d5f-f2c2-623cd84095be"
      },
      "outputs": [
        {
          "output_type": "stream",
          "name": "stdout",
          "text": [
            "              precision    recall  f1-score   support\n",
            "\n",
            "       False       0.88      0.85      0.86       458\n",
            "        True       0.78      0.82      0.79       292\n",
            "\n",
            "    accuracy                           0.84       750\n",
            "   macro avg       0.83      0.83      0.83       750\n",
            "weighted avg       0.84      0.84      0.84       750\n",
            "\n",
            "[[389  69]\n",
            " [ 54 238]]\n"
          ]
        }
      ],
      "source": [
        "y_pred = knn.predict(X_val)\n",
        "print(classification_report(y_val, y_pred))\n",
        "print(confusion_matrix(y_val, y_pred))"
      ]
    },
    {
      "cell_type": "code",
      "execution_count": null,
      "metadata": {
        "id": "WNjcfF5q7PoO",
        "colab": {
          "base_uri": "https://localhost:8080/"
        },
        "outputId": "8059cada-4dd3-43a1-c1dc-1880d93c1838"
      },
      "outputs": [
        {
          "output_type": "stream",
          "name": "stdout",
          "text": [
            "0.9004576659038902\n",
            "0.8413333333333334\n"
          ]
        }
      ],
      "source": [
        "rf.fit(X_train, y_train)\n",
        "print(rf.score(X_train, y_train))\n",
        "print(rf.score(X_val, y_val))"
      ]
    },
    {
      "cell_type": "code",
      "execution_count": null,
      "metadata": {
        "id": "M3ethJDH9QR-",
        "colab": {
          "base_uri": "https://localhost:8080/"
        },
        "outputId": "230ad42f-3eaf-45cf-874d-7bbad38c60e0"
      },
      "outputs": [
        {
          "output_type": "stream",
          "name": "stdout",
          "text": [
            "              precision    recall  f1-score   support\n",
            "\n",
            "       False       0.89      0.84      0.87       458\n",
            "        True       0.77      0.84      0.81       292\n",
            "\n",
            "    accuracy                           0.84       750\n",
            "   macro avg       0.83      0.84      0.84       750\n",
            "weighted avg       0.85      0.84      0.84       750\n",
            "\n",
            "[[385  73]\n",
            " [ 46 246]]\n"
          ]
        }
      ],
      "source": [
        "y_pred = rf.predict(X_val)\n",
        "print(classification_report(y_val, y_pred))\n",
        "print(confusion_matrix(y_val, y_pred))"
      ]
    },
    {
      "cell_type": "markdown",
      "metadata": {
        "id": "jaaDqysA8p7d"
      },
      "source": [
        "After training on the entire training data and testing on the validation data the Random Forest Classifier returns the best performance, at 0.84 accuracy on unseen data. In addition to this the classification reports and confusion matrices show the Random Forest Classifier gives the most balanced performance across the two classes with the highest f1 scores for both male and female labels. Therefore, the RandomForest classifier is chosen as the optimal model for this problem. "
      ]
    },
    {
      "cell_type": "markdown",
      "metadata": {
        "id": "bBgktG_D_DFJ"
      },
      "source": [
        "# 8 Conclusions\n",
        "\n",
        "To conclude, a the optimal model for this dataset was a Random Forest Classifier, which achieved an accuracy and f1 score of 0.84. \n",
        "\n",
        "Possible improvements could include a greater range of features, which could be aquired through the assistance of audio professionals with domain expertise. Furthermore, a larger sample size could facilitate deep learning applications, or push the accuracy higher on the Random Forest Classifier. \n",
        "\n"
      ]
    },
    {
      "cell_type": "code",
      "source": [],
      "metadata": {
        "id": "mAE46p6y-NDY"
      },
      "execution_count": null,
      "outputs": []
    }
  ],
  "metadata": {
    "colab": {
      "provenance": [],
      "collapsed_sections": [
        "M7Eie1xVkn5J",
        "bBgktG_D_DFJ"
      ]
    },
    "kernelspec": {
      "display_name": "Python 3",
      "name": "python3"
    },
    "language_info": {
      "name": "python"
    }
  },
  "nbformat": 4,
  "nbformat_minor": 0
}